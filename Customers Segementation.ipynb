{
 "cells": [
  {
   "cell_type": "markdown",
   "id": "c216a064",
   "metadata": {},
   "source": [
    "# Customer Segmentation\n",
    "mini project by Group 1 Data Science B - MyEduSolve"
   ]
  },
  {
   "cell_type": "markdown",
   "id": "feed4497",
   "metadata": {},
   "source": [
    "# Use Case"
   ]
  },
  {
   "cell_type": "markdown",
   "id": "b0ab5c14",
   "metadata": {},
   "source": [
    "* **Use Case Summary**\n",
    "\n",
    "\n",
    "* **Objective Statement** :\n",
    "\n",
    "    * Get business insight about how many customers\n",
    "    * Get business insight about the average, maximum and minimum amount by the customer \n",
    "    * Get business insight about how many orders by year\n",
    "    * Get business insight for each customers based on labeled defined such as Loyal Customer, Big Spanders, Best Customers, Lost Cheap Customers and Almost Lost\n",
    "    * Build models using RFM to learn customer segmentation  \n",
    "    \n",
    "    \n",
    "* **Challanges** :\n",
    "    * Large size of data, can not maintain by excel spreadsheet\n",
    "    * Change the data type of column which doesn't match\n",
    "    * Display data every year\n",
    "    * Make a definition of each segment obtained\n",
    "    * Don't know the location of retail data\n",
    "\n",
    "\n",
    "* **Methodology / Analytic Technique** :\n",
    "    * Descriptive analysis\n",
    "        * Describe the information such as, min/max value of each column, average, and the total count of data contained in grand_total column.\n",
    "    * Graph analysis\n",
    "        * View data changes by time (Year)\n",
    "    * Using Modelling Segementation \n",
    "        * RFM Model\n",
    "\n",
    "\n",
    "* **Business Benefit**:\n",
    "\n",
    "    * Gain insight to treat and keep customers based on segment\n",
    "    * Gain insight to improve the quality of company services so that customers remain loyal and gain more profit for the company\n",
    "    * Build models using RFM to know customer segement\n",
    "\n",
    "\n",
    "* **Expected Outcome**:\n",
    "\n",
    "    * Know how many customer?\n",
    "    * Know how about the average, maximum and minimum amount issued by the customer?\n",
    "    * Know how many orders by year\n",
    "    * know how behavior customers based on labeled defined such as Loyal Customer, Big Spanders, Best Customers, Lost Cheap Customers and Almost Lost\n",
    "    * Know how to build model using RFM"
   ]
  },
  {
   "cell_type": "markdown",
   "id": "7ce7b250",
   "metadata": {},
   "source": [
    "# Business Understanding\n",
    "* Data orders is a company that sells good that can be ordered by customers in large quantities at once\n",
    "- This case has some business question using the data:\n",
    "    * How many customer?\n",
    "    * How about the average, maximum and minimum amount issued by the customer?\n",
    "    * How many orders by year?\n",
    "    * How behavior customers based on labeled defined such as Loyal Customer, Big Spanders, Best Customers, Lost Cheap Customers and Almost Lost?\n",
    "    * How to build model using RFM modelling?"
   ]
  },
  {
   "cell_type": "markdown",
   "id": "39276b0c",
   "metadata": {},
   "source": [
    "# Data Understanding\n",
    "\n",
    "\n",
    "* **Source Data**:\n",
    "    * The dataset used is data from https://www.kaggle.com/datasets/siddinho/sample-orders-dataset-retail\n",
    "    * Data start from January 4 2011 - Desember 31 2014\n",
    "    * The raw data contains 5009 rows and 4 columns.\n",
    "\n",
    "\n",
    "* **Data Dictionary** :\n",
    "    * order_date : date of ordering items by customer\n",
    "    * order_id : the transaction id of ordering items by the customer\n",
    "    * customer: the name of the customer who made the purchase\n",
    "    * grand_total : total price paid by customer"
   ]
  },
  {
   "cell_type": "markdown",
   "id": "3eb7d96e",
   "metadata": {},
   "source": [
    "# Data Preparation\n",
    "\n",
    "* **Code use**:\n",
    "    * Python 3.9.13\n",
    "    * Package: Pandas, Numpy, Matplotlib, Seaborn, Scipy, Sklearn, and Warning "
   ]
  },
  {
   "cell_type": "markdown",
   "id": "0f7a2a74",
   "metadata": {},
   "source": [
    "# Data Cleansing\n",
    "   * Change data type from order of object to datetime\n",
    "   * Retrieve data only month and year only"
   ]
  },
  {
   "cell_type": "code",
   "execution_count": 1,
   "id": "bd515708",
   "metadata": {},
   "outputs": [],
   "source": [
    "#! pip install feature_engine"
   ]
  },
  {
   "cell_type": "code",
   "execution_count": 2,
   "id": "d880a90f",
   "metadata": {},
   "outputs": [],
   "source": [
    "import pandas as pd\n",
    "import numpy as np\n",
    "import matplotlib.pyplot as plt\n",
    "import seaborn as sns\n",
    "\n",
    "import datetime as dt\n",
    "from datetime import datetime as dt2\n",
    "from datetime import timedelta as td\n",
    "from datetime import time as tm\n",
    "\n",
    "from scipy import stats\n",
    "from sklearn.preprocessing import StandardScaler\n",
    "from sklearn.manifold import TSNE\n",
    "\n",
    "import plotly.offline as pyoff\n",
    "import plotly.graph_objs as go\n",
    "\n",
    "import feature_engine\n",
    "from feature_engine.outliers import Winsorizer\n",
    "\n",
    "from sklearn.cluster import KMeans\n",
    "from sklearn.cluster import AgglomerativeClustering\n",
    "import scipy.cluster.hierarchy as sch\n",
    "from sklearn.metrics import davies_bouldin_score\n",
    "\n",
    "import warnings\n",
    "warnings.filterwarnings(\"ignore\")"
   ]
  },
  {
   "cell_type": "markdown",
   "id": "92f2364e",
   "metadata": {},
   "source": [
    "# Data Profiling"
   ]
  },
  {
   "cell_type": "markdown",
   "id": "cb713b27",
   "metadata": {},
   "source": [
    "**Load Dataset**"
   ]
  },
  {
   "cell_type": "code",
   "execution_count": 3,
   "id": "df4bab2b",
   "metadata": {},
   "outputs": [],
   "source": [
    "df = pd.read_csv(\"data_orders.csv\")"
   ]
  },
  {
   "cell_type": "markdown",
   "id": "35bfffed",
   "metadata": {},
   "source": [
    "**Preview Dataset**"
   ]
  },
  {
   "cell_type": "code",
   "execution_count": 4,
   "id": "d03f8876",
   "metadata": {},
   "outputs": [
    {
     "data": {
      "text/html": [
       "<div>\n",
       "<style scoped>\n",
       "    .dataframe tbody tr th:only-of-type {\n",
       "        vertical-align: middle;\n",
       "    }\n",
       "\n",
       "    .dataframe tbody tr th {\n",
       "        vertical-align: top;\n",
       "    }\n",
       "\n",
       "    .dataframe thead th {\n",
       "        text-align: right;\n",
       "    }\n",
       "</style>\n",
       "<table border=\"1\" class=\"dataframe\">\n",
       "  <thead>\n",
       "    <tr style=\"text-align: right;\">\n",
       "      <th></th>\n",
       "      <th>order_date</th>\n",
       "      <th>order_id</th>\n",
       "      <th>customer</th>\n",
       "      <th>grand_total</th>\n",
       "    </tr>\n",
       "  </thead>\n",
       "  <tbody>\n",
       "    <tr>\n",
       "      <th>0</th>\n",
       "      <td>9/7/2011</td>\n",
       "      <td>CA-2011-100006</td>\n",
       "      <td>Dennis Kane</td>\n",
       "      <td>378</td>\n",
       "    </tr>\n",
       "    <tr>\n",
       "      <th>1</th>\n",
       "      <td>7/8/2011</td>\n",
       "      <td>CA-2011-100090</td>\n",
       "      <td>Ed Braxton</td>\n",
       "      <td>699</td>\n",
       "    </tr>\n",
       "    <tr>\n",
       "      <th>2</th>\n",
       "      <td>3/14/2011</td>\n",
       "      <td>CA-2011-100293</td>\n",
       "      <td>Neil Franzšsisch</td>\n",
       "      <td>91</td>\n",
       "    </tr>\n",
       "    <tr>\n",
       "      <th>3</th>\n",
       "      <td>1/29/2011</td>\n",
       "      <td>CA-2011-100328</td>\n",
       "      <td>Jasper Cacioppo</td>\n",
       "      <td>4</td>\n",
       "    </tr>\n",
       "    <tr>\n",
       "      <th>4</th>\n",
       "      <td>4/8/2011</td>\n",
       "      <td>CA-2011-100363</td>\n",
       "      <td>Jim Mitchum</td>\n",
       "      <td>21</td>\n",
       "    </tr>\n",
       "  </tbody>\n",
       "</table>\n",
       "</div>"
      ],
      "text/plain": [
       "  order_date        order_id          customer  grand_total\n",
       "0   9/7/2011  CA-2011-100006       Dennis Kane          378\n",
       "1   7/8/2011  CA-2011-100090        Ed Braxton          699\n",
       "2  3/14/2011  CA-2011-100293  Neil Franzšsisch           91\n",
       "3  1/29/2011  CA-2011-100328   Jasper Cacioppo            4\n",
       "4   4/8/2011  CA-2011-100363       Jim Mitchum           21"
      ]
     },
     "execution_count": 4,
     "metadata": {},
     "output_type": "execute_result"
    }
   ],
   "source": [
    "df.head()"
   ]
  },
  {
   "cell_type": "markdown",
   "id": "c204d42f",
   "metadata": {},
   "source": [
    "**Dataset Information**"
   ]
  },
  {
   "cell_type": "code",
   "execution_count": 5,
   "id": "b60121c2",
   "metadata": {},
   "outputs": [
    {
     "name": "stdout",
     "output_type": "stream",
     "text": [
      "<class 'pandas.core.frame.DataFrame'>\n",
      "RangeIndex: 5009 entries, 0 to 5008\n",
      "Data columns (total 4 columns):\n",
      " #   Column       Non-Null Count  Dtype \n",
      "---  ------       --------------  ----- \n",
      " 0   order_date   5009 non-null   object\n",
      " 1   order_id     5009 non-null   object\n",
      " 2   customer     5009 non-null   object\n",
      " 3   grand_total  5009 non-null   int64 \n",
      "dtypes: int64(1), object(3)\n",
      "memory usage: 156.7+ KB\n"
     ]
    }
   ],
   "source": [
    "df.info()"
   ]
  },
  {
   "cell_type": "markdown",
   "id": "80cdbb0a",
   "metadata": {},
   "source": [
    "**Check Missing Value**"
   ]
  },
  {
   "cell_type": "code",
   "execution_count": 6,
   "id": "4e0b1c29",
   "metadata": {},
   "outputs": [
    {
     "data": {
      "text/plain": [
       "order_date     0\n",
       "order_id       0\n",
       "customer       0\n",
       "grand_total    0\n",
       "dtype: int64"
      ]
     },
     "execution_count": 6,
     "metadata": {},
     "output_type": "execute_result"
    }
   ],
   "source": [
    "df.isnull().sum()"
   ]
  },
  {
   "cell_type": "code",
   "execution_count": 7,
   "id": "171a75a0",
   "metadata": {},
   "outputs": [
    {
     "data": {
      "text/plain": [
       "(5009, 4)"
      ]
     },
     "execution_count": 7,
     "metadata": {},
     "output_type": "execute_result"
    }
   ],
   "source": [
    "df.shape"
   ]
  },
  {
   "cell_type": "code",
   "execution_count": 8,
   "id": "a9001c52",
   "metadata": {},
   "outputs": [
    {
     "data": {
      "text/plain": [
       "order_date     0.0\n",
       "order_id       0.0\n",
       "customer       0.0\n",
       "grand_total    0.0\n",
       "dtype: float64"
      ]
     },
     "execution_count": 8,
     "metadata": {},
     "output_type": "execute_result"
    }
   ],
   "source": [
    "df.isnull().sum()/df.shape[0]"
   ]
  },
  {
   "cell_type": "markdown",
   "id": "9e2d10c1",
   "metadata": {},
   "source": [
    "**Check unique value**"
   ]
  },
  {
   "cell_type": "code",
   "execution_count": 9,
   "id": "bcfd2487",
   "metadata": {},
   "outputs": [
    {
     "data": {
      "text/plain": [
       "order_date     1238\n",
       "order_id       5009\n",
       "customer        793\n",
       "grand_total    1358\n",
       "dtype: int64"
      ]
     },
     "execution_count": 9,
     "metadata": {},
     "output_type": "execute_result"
    }
   ],
   "source": [
    "df.nunique()"
   ]
  },
  {
   "cell_type": "markdown",
   "id": "2f3bc291",
   "metadata": {},
   "source": [
    "from here it can be seen, **total customers are 793**. The number of Order_id turns out to be not the same as the number of Customers, so there are **some Order_ids that have the same Customers**. This shows that there are customers who **repeat orders** or do not only shop once at the company. **order_date** shows that there are several **transactions on the same day**"
   ]
  },
  {
   "cell_type": "markdown",
   "id": "c08b86e1",
   "metadata": {},
   "source": [
    "**Dataset Description**"
   ]
  },
  {
   "cell_type": "code",
   "execution_count": 10,
   "id": "c3a27bdd",
   "metadata": {},
   "outputs": [
    {
     "data": {
      "text/html": [
       "<div>\n",
       "<style scoped>\n",
       "    .dataframe tbody tr th:only-of-type {\n",
       "        vertical-align: middle;\n",
       "    }\n",
       "\n",
       "    .dataframe tbody tr th {\n",
       "        vertical-align: top;\n",
       "    }\n",
       "\n",
       "    .dataframe thead th {\n",
       "        text-align: right;\n",
       "    }\n",
       "</style>\n",
       "<table border=\"1\" class=\"dataframe\">\n",
       "  <thead>\n",
       "    <tr style=\"text-align: right;\">\n",
       "      <th></th>\n",
       "      <th>grand_total</th>\n",
       "    </tr>\n",
       "  </thead>\n",
       "  <tbody>\n",
       "    <tr>\n",
       "      <th>count</th>\n",
       "      <td>5009.000000</td>\n",
       "    </tr>\n",
       "    <tr>\n",
       "      <th>mean</th>\n",
       "      <td>458.626672</td>\n",
       "    </tr>\n",
       "    <tr>\n",
       "      <th>std</th>\n",
       "      <td>954.729307</td>\n",
       "    </tr>\n",
       "    <tr>\n",
       "      <th>min</th>\n",
       "      <td>1.000000</td>\n",
       "    </tr>\n",
       "    <tr>\n",
       "      <th>25%</th>\n",
       "      <td>38.000000</td>\n",
       "    </tr>\n",
       "    <tr>\n",
       "      <th>50%</th>\n",
       "      <td>152.000000</td>\n",
       "    </tr>\n",
       "    <tr>\n",
       "      <th>75%</th>\n",
       "      <td>512.000000</td>\n",
       "    </tr>\n",
       "    <tr>\n",
       "      <th>max</th>\n",
       "      <td>23661.000000</td>\n",
       "    </tr>\n",
       "  </tbody>\n",
       "</table>\n",
       "</div>"
      ],
      "text/plain": [
       "        grand_total\n",
       "count   5009.000000\n",
       "mean     458.626672\n",
       "std      954.729307\n",
       "min        1.000000\n",
       "25%       38.000000\n",
       "50%      152.000000\n",
       "75%      512.000000\n",
       "max    23661.000000"
      ]
     },
     "execution_count": 10,
     "metadata": {},
     "output_type": "execute_result"
    }
   ],
   "source": [
    "df.describe()"
   ]
  },
  {
   "cell_type": "markdown",
   "id": "361353ab",
   "metadata": {},
   "source": [
    "Based on the data above, it is known that **on average** customers make product purchases with a total price of **458.626672**, the customer with the lowest purchase is rated **1** and the highest purchase is rated **23661**\n",
    "\n",
    "**number 1** may get **high discount** for example black friday sale promo, and **23661** the possibility of buying items that are considered quite **expensive**"
   ]
  },
  {
   "cell_type": "markdown",
   "id": "5963c148",
   "metadata": {},
   "source": [
    "# Data Cleansing"
   ]
  },
  {
   "cell_type": "code",
   "execution_count": 11,
   "id": "b1b6b66e",
   "metadata": {},
   "outputs": [],
   "source": [
    "#order_date\n",
    "\n",
    "df['order_date'] = pd.to_datetime(df['order_date'])\n",
    "df['OrderYearMonth'] = df['order_date'].map(lambda date: 100*date.year + date.month)\n",
    "df['Date'] = df['order_date'].dt.strftime('%Y-%m')\n",
    "df['Year'] = df['order_date'].dt.strftime('%Y')"
   ]
  },
  {
   "cell_type": "markdown",
   "id": "15516f91",
   "metadata": {},
   "source": [
    "change data type from order of object to datetime and "
   ]
  },
  {
   "cell_type": "code",
   "execution_count": 12,
   "id": "314ac4bd",
   "metadata": {},
   "outputs": [
    {
     "data": {
      "text/html": [
       "<div>\n",
       "<style scoped>\n",
       "    .dataframe tbody tr th:only-of-type {\n",
       "        vertical-align: middle;\n",
       "    }\n",
       "\n",
       "    .dataframe tbody tr th {\n",
       "        vertical-align: top;\n",
       "    }\n",
       "\n",
       "    .dataframe thead th {\n",
       "        text-align: right;\n",
       "    }\n",
       "</style>\n",
       "<table border=\"1\" class=\"dataframe\">\n",
       "  <thead>\n",
       "    <tr style=\"text-align: right;\">\n",
       "      <th></th>\n",
       "      <th>order_date</th>\n",
       "      <th>order_id</th>\n",
       "      <th>customer</th>\n",
       "      <th>grand_total</th>\n",
       "      <th>OrderYearMonth</th>\n",
       "      <th>Date</th>\n",
       "      <th>Year</th>\n",
       "    </tr>\n",
       "  </thead>\n",
       "  <tbody>\n",
       "    <tr>\n",
       "      <th>0</th>\n",
       "      <td>2011-09-07</td>\n",
       "      <td>CA-2011-100006</td>\n",
       "      <td>Dennis Kane</td>\n",
       "      <td>378</td>\n",
       "      <td>201109</td>\n",
       "      <td>2011-09</td>\n",
       "      <td>2011</td>\n",
       "    </tr>\n",
       "    <tr>\n",
       "      <th>1</th>\n",
       "      <td>2011-07-08</td>\n",
       "      <td>CA-2011-100090</td>\n",
       "      <td>Ed Braxton</td>\n",
       "      <td>699</td>\n",
       "      <td>201107</td>\n",
       "      <td>2011-07</td>\n",
       "      <td>2011</td>\n",
       "    </tr>\n",
       "    <tr>\n",
       "      <th>2</th>\n",
       "      <td>2011-03-14</td>\n",
       "      <td>CA-2011-100293</td>\n",
       "      <td>Neil Franzšsisch</td>\n",
       "      <td>91</td>\n",
       "      <td>201103</td>\n",
       "      <td>2011-03</td>\n",
       "      <td>2011</td>\n",
       "    </tr>\n",
       "    <tr>\n",
       "      <th>3</th>\n",
       "      <td>2011-01-29</td>\n",
       "      <td>CA-2011-100328</td>\n",
       "      <td>Jasper Cacioppo</td>\n",
       "      <td>4</td>\n",
       "      <td>201101</td>\n",
       "      <td>2011-01</td>\n",
       "      <td>2011</td>\n",
       "    </tr>\n",
       "    <tr>\n",
       "      <th>4</th>\n",
       "      <td>2011-04-08</td>\n",
       "      <td>CA-2011-100363</td>\n",
       "      <td>Jim Mitchum</td>\n",
       "      <td>21</td>\n",
       "      <td>201104</td>\n",
       "      <td>2011-04</td>\n",
       "      <td>2011</td>\n",
       "    </tr>\n",
       "  </tbody>\n",
       "</table>\n",
       "</div>"
      ],
      "text/plain": [
       "  order_date        order_id          customer  grand_total  OrderYearMonth  \\\n",
       "0 2011-09-07  CA-2011-100006       Dennis Kane          378          201109   \n",
       "1 2011-07-08  CA-2011-100090        Ed Braxton          699          201107   \n",
       "2 2011-03-14  CA-2011-100293  Neil Franzšsisch           91          201103   \n",
       "3 2011-01-29  CA-2011-100328   Jasper Cacioppo            4          201101   \n",
       "4 2011-04-08  CA-2011-100363       Jim Mitchum           21          201104   \n",
       "\n",
       "      Date  Year  \n",
       "0  2011-09  2011  \n",
       "1  2011-07  2011  \n",
       "2  2011-03  2011  \n",
       "3  2011-01  2011  \n",
       "4  2011-04  2011  "
      ]
     },
     "execution_count": 12,
     "metadata": {},
     "output_type": "execute_result"
    }
   ],
   "source": [
    "df.head()"
   ]
  },
  {
   "cell_type": "markdown",
   "id": "c19febd3",
   "metadata": {},
   "source": [
    "# Explorary Data Analysis"
   ]
  },
  {
   "cell_type": "code",
   "execution_count": 13,
   "id": "23006d6a",
   "metadata": {},
   "outputs": [
    {
     "name": "stdout",
     "output_type": "stream",
     "text": [
      "2011-01-04 00:00:00\n",
      "2014-12-31 00:00:00\n",
      "The data is from 4 year transaction\n"
     ]
    }
   ],
   "source": [
    "#timebound\n",
    "\n",
    "print(df[\"order_date\"].min())\n",
    "print(df[\"order_date\"].max())\n",
    "print(\"The data is from 4 year transaction\")"
   ]
  },
  {
   "cell_type": "markdown",
   "id": "f75b960c",
   "metadata": {},
   "source": [
    "dataset, date **started from January 4, 2011**. terminated **until December 31, 2014**."
   ]
  },
  {
   "cell_type": "code",
   "execution_count": 14,
   "id": "9530c370",
   "metadata": {},
   "outputs": [
    {
     "data": {
      "text/plain": [
       "Year  Date   \n",
       "2011  2011-01    31\n",
       "      2011-02    29\n",
       "      2011-03    71\n",
       "      2011-04    66\n",
       "      2011-05    69\n",
       "Name: order_id, dtype: int64"
      ]
     },
     "execution_count": 14,
     "metadata": {},
     "output_type": "execute_result"
    }
   ],
   "source": [
    "#Aggregating the Orders by Month\n",
    "\n",
    "df_agg = df.groupby([\"Year\", \"Date\"]).order_id.count()\n",
    "df_agg.head()"
   ]
  },
  {
   "cell_type": "code",
   "execution_count": 15,
   "id": "38333ab8",
   "metadata": {},
   "outputs": [
    {
     "data": {
      "text/html": [
       "<div>\n",
       "<style scoped>\n",
       "    .dataframe tbody tr th:only-of-type {\n",
       "        vertical-align: middle;\n",
       "    }\n",
       "\n",
       "    .dataframe tbody tr th {\n",
       "        vertical-align: top;\n",
       "    }\n",
       "\n",
       "    .dataframe thead th {\n",
       "        text-align: right;\n",
       "    }\n",
       "</style>\n",
       "<table border=\"1\" class=\"dataframe\">\n",
       "  <thead>\n",
       "    <tr style=\"text-align: right;\">\n",
       "      <th></th>\n",
       "      <th>Year</th>\n",
       "      <th>Date</th>\n",
       "      <th>order_id</th>\n",
       "    </tr>\n",
       "  </thead>\n",
       "  <tbody>\n",
       "    <tr>\n",
       "      <th>0</th>\n",
       "      <td>2011</td>\n",
       "      <td>2011-01</td>\n",
       "      <td>31</td>\n",
       "    </tr>\n",
       "    <tr>\n",
       "      <th>1</th>\n",
       "      <td>2011</td>\n",
       "      <td>2011-02</td>\n",
       "      <td>29</td>\n",
       "    </tr>\n",
       "    <tr>\n",
       "      <th>2</th>\n",
       "      <td>2011</td>\n",
       "      <td>2011-03</td>\n",
       "      <td>71</td>\n",
       "    </tr>\n",
       "    <tr>\n",
       "      <th>3</th>\n",
       "      <td>2011</td>\n",
       "      <td>2011-04</td>\n",
       "      <td>66</td>\n",
       "    </tr>\n",
       "    <tr>\n",
       "      <th>4</th>\n",
       "      <td>2011</td>\n",
       "      <td>2011-05</td>\n",
       "      <td>69</td>\n",
       "    </tr>\n",
       "  </tbody>\n",
       "</table>\n",
       "</div>"
      ],
      "text/plain": [
       "   Year     Date  order_id\n",
       "0  2011  2011-01        31\n",
       "1  2011  2011-02        29\n",
       "2  2011  2011-03        71\n",
       "3  2011  2011-04        66\n",
       "4  2011  2011-05        69"
      ]
     },
     "execution_count": 15,
     "metadata": {},
     "output_type": "execute_result"
    }
   ],
   "source": [
    "df_agg = pd.DataFrame(df_agg)\n",
    "df_agg = df_agg.reset_index()\n",
    "df_agg.head()"
   ]
  },
  {
   "cell_type": "markdown",
   "id": "5af7ff4a",
   "metadata": {},
   "source": [
    "From this data, it can be seen that the total transactions in **January 2011** were **31 transactions**. **29 transactions** in **February 2011** and so on"
   ]
  },
  {
   "cell_type": "code",
   "execution_count": 16,
   "id": "947aee0a",
   "metadata": {},
   "outputs": [],
   "source": [
    "def plot_df(df, x, y, title=\"\", xlabel='Date', ylabel='Quantity', dpi=100):\n",
    "    plt.figure(figsize=(16,5), dpi=dpi)\n",
    "    plt.gca().set(title=title, xlabel=xlabel, ylabel=ylabel)\n",
    "    plt.plot(x, y, color='tab:Blue', marker='o')\n",
    "    plt.show()"
   ]
  },
  {
   "cell_type": "code",
   "execution_count": 17,
   "id": "91992093",
   "metadata": {},
   "outputs": [
    {
     "data": {
      "image/png": "[encoded data removed]",
      "text/plain": [
       "<Figure size 1600x500 with 1 Axes>"
      ]
     },
     "metadata": {},
     "output_type": "display_data"
    }
   ],
   "source": [
    "plot_df(df_agg.query(\"Year == '2011'\"), x=df_agg.query(\"Year == '2011'\").Date, y=df_agg.query(\"Year == '2011'\").order_id, title='Orders in 2011')"
   ]
  },
  {
   "cell_type": "markdown",
   "id": "50a06469",
   "metadata": {},
   "source": [
    "The number of items purchased tends to **increase every mounth**. In **October** sales **declined sharply** but **increased** in the following month, even exceeding sales in September because normally In most countries in the Northern Hemisphere, **September is the time for students to start new school year at school**. **November's sales are high** because there are usually lots of **Black Friday** promotions. Meanwhile, sales in **December** experienced a **decline again**."
   ]
  },
  {
   "cell_type": "code",
   "execution_count": 18,
   "id": "73fb42ff",
   "metadata": {},
   "outputs": [
    {
     "data": {
      "image/png": "[encoded data removed]",
      "text/plain": [
       "<Figure size 1600x500 with 1 Axes>"
      ]
     },
     "metadata": {},
     "output_type": "display_data"
    }
   ],
   "source": [
    "plot_df(df_agg.query(\"Year == '2012'\"), x=df_agg.query(\"Year == '2012'\").Date, y=df_agg.query(\"Year == '2012'\").order_id, title='Orders in 2012')"
   ]
  },
  {
   "cell_type": "markdown",
   "id": "60ecf523",
   "metadata": {},
   "source": [
    "The number of items purchased tends to **increase** every month, in **February to March** there is a sharp increase of up to **2 times**. In **September** there was **a sharp increase**. However, in the following month, **October, there was a sharp decline** because in that month, **started the new school year**. in **November** there was a high increase even higher than September and again **increased** because of **Black Friday**, and sales in **December** fell again"
   ]
  },
  {
   "cell_type": "code",
   "execution_count": 19,
   "id": "ef03d9f3",
   "metadata": {},
   "outputs": [
    {
     "data": {
      "image/png": "[encoded data removed]",
      "text/plain": [
       "<Figure size 1600x500 with 1 Axes>"
      ]
     },
     "metadata": {},
     "output_type": "display_data"
    }
   ],
   "source": [
    "plot_df(df_agg.query(\"Year == '2013'\"), x=df_agg.query(\"Year == '2013'\").Date, y=df_agg.query(\"Year == '2013'\").order_id, title='Orders in 2013')"
   ]
  },
  {
   "cell_type": "markdown",
   "id": "9ce673d7",
   "metadata": {},
   "source": [
    "The number of items purchased tends to **increase** every month, in **February to March** there is a fairly sharp increase to **almost 2 times**. In the month of **September** there was **a sharp increase** because many parents bought school supplies for their children. However, in the following month, **October, there was a sharp decline** due to **new school year**. However, in **November** there was a **high** increase in the number of items purchased because **Black Fiday** promos usually occur and again **slightly decreased** sales in **December**."
   ]
  },
  {
   "cell_type": "code",
   "execution_count": 20,
   "id": "30b9c405",
   "metadata": {},
   "outputs": [
    {
     "data": {
      "image/png": "[encoded data removed]",
      "text/plain": [
       "<Figure size 1600x500 with 1 Axes>"
      ]
     },
     "metadata": {},
     "output_type": "display_data"
    }
   ],
   "source": [
    "plot_df(df_agg.query(\"Year == '2014'\"), x=df_agg.query(\"Year == '2014'\").Date, y=df_agg.query(\"Year == '2014'\").order_id, title='Orders in 2014')"
   ]
  },
  {
   "cell_type": "markdown",
   "id": "5dd5d8dc",
   "metadata": {},
   "source": [
    "The number of items purchased tends to **increase** every month, in **February to March** there is a fairly sharp increase to **almost 2 times**. In September there is a sharp increase in the new school year. However, in the following month, **October, there was a sharp decline**. However, in November **November there was a high increase** in the number of items purchased even **higher than September** due to Black Friday and again **slightly decreased** sales in **December**"
   ]
  },
  {
   "cell_type": "code",
   "execution_count": 21,
   "id": "588cfd01",
   "metadata": {},
   "outputs": [
    {
     "data": {
      "text/html": [
       "<div>\n",
       "<style scoped>\n",
       "    .dataframe tbody tr th:only-of-type {\n",
       "        vertical-align: middle;\n",
       "    }\n",
       "\n",
       "    .dataframe tbody tr th {\n",
       "        vertical-align: top;\n",
       "    }\n",
       "\n",
       "    .dataframe thead th {\n",
       "        text-align: right;\n",
       "    }\n",
       "</style>\n",
       "<table border=\"1\" class=\"dataframe\">\n",
       "  <thead>\n",
       "    <tr style=\"text-align: right;\">\n",
       "      <th></th>\n",
       "      <th>order_date</th>\n",
       "      <th>grand_total</th>\n",
       "    </tr>\n",
       "  </thead>\n",
       "  <tbody>\n",
       "    <tr>\n",
       "      <th>0</th>\n",
       "      <td>2011</td>\n",
       "      <td>484260</td>\n",
       "    </tr>\n",
       "    <tr>\n",
       "      <th>1</th>\n",
       "      <td>2012</td>\n",
       "      <td>470539</td>\n",
       "    </tr>\n",
       "    <tr>\n",
       "      <th>2</th>\n",
       "      <td>2013</td>\n",
       "      <td>608477</td>\n",
       "    </tr>\n",
       "    <tr>\n",
       "      <th>3</th>\n",
       "      <td>2014</td>\n",
       "      <td>733985</td>\n",
       "    </tr>\n",
       "  </tbody>\n",
       "</table>\n",
       "</div>"
      ],
      "text/plain": [
       "   order_date  grand_total\n",
       "0        2011       484260\n",
       "1        2012       470539\n",
       "2        2013       608477\n",
       "3        2014       733985"
      ]
     },
     "execution_count": 21,
     "metadata": {},
     "output_type": "execute_result"
    }
   ],
   "source": [
    "df_year = df.groupby(df.order_date.dt.year).grand_total.sum()\n",
    "df_year = pd.DataFrame(df_year)\n",
    "df_year = df_year.reset_index()\n",
    "df_year.head()"
   ]
  },
  {
   "cell_type": "code",
   "execution_count": 22,
   "id": "d64278da",
   "metadata": {},
   "outputs": [
    {
     "name": "stdout",
     "output_type": "stream",
     "text": [
      "   order_date  grand_total  percent\n",
      "0        2011       484260     21.0\n",
      "1        2012       470539     20.0\n",
      "2        2013       608477     26.0\n",
      "3        2014       733985     32.0\n"
     ]
    },
    {
     "data": {
      "text/plain": [
       "<AxesSubplot:xlabel='order_date', ylabel='grand_total'>"
      ]
     },
     "execution_count": 22,
     "metadata": {},
     "output_type": "execute_result"
    },
    {
     "data": {
      "image/png": "[encoded data removed]",
      "text/plain": [
       "<Figure size 1600x800 with 1 Axes>"
      ]
     },
     "metadata": {},
     "output_type": "display_data"
    }
   ],
   "source": [
    "data = df_year\n",
    "data['percent'] = round(data['grand_total']*100/data['grand_total'].sum())\n",
    "print(data)\n",
    "plt.figure(figsize=(16,8))\n",
    "sns.barplot(data = df_year, palette='rainbow', x = 'order_date', y = 'grand_total')"
   ]
  },
  {
   "cell_type": "markdown",
   "id": "bc7f19cf",
   "metadata": {},
   "source": [
    "In the barchart above, you can see how much the order increases each year. In **2011** with a grand total of **484260** with a value of **percentage of 21%**. In **2012** with a grand total of **470539** with a percentage value of 20%. In 2013 with a grand total of 608477 with a percentage value of 26%. and in 2014 with a grand total of 733985 with a percentage value of 32%."
   ]
  },
  {
   "cell_type": "markdown",
   "id": "9335efbb",
   "metadata": {},
   "source": [
    "# Prepocessing Modeling"
   ]
  },
  {
   "cell_type": "markdown",
   "id": "fd3becc5",
   "metadata": {},
   "source": [
    "# RFM Analysis\n",
    "\n",
    "Recensy Frequency Monetary (RFM)\n",
    "\n",
    "RFM analysis allows you to segment customers by the frequency and value of purchases and identify those customers who append the most money.\n",
    "\n",
    "Recency - how long it's been since a customer bought something from us.\n",
    "\n",
    "Frequency - how often a customer buys from us\n",
    "\n",
    "Monetary value - the total value of purchases a customer has made."
   ]
  },
  {
   "cell_type": "code",
   "execution_count": 23,
   "id": "f620529d",
   "metadata": {},
   "outputs": [
    {
     "name": "stdout",
     "output_type": "stream",
     "text": [
      "2011-01-04 00:00:00\n",
      "2014-12-31 00:00:00\n",
      "The data is 4 year transaction\n"
     ]
    }
   ],
   "source": [
    "#timebound\n",
    "\n",
    "print(df['order_date'].min())\n",
    "print(df['order_date'].max())\n",
    "print('The data is 4 year transaction')"
   ]
  },
  {
   "cell_type": "markdown",
   "id": "b595bfb7",
   "metadata": {},
   "source": [
    "from 'order_data' data, data **starts on January 4, 2011**, ends on **December 31, 2014**"
   ]
  },
  {
   "cell_type": "code",
   "execution_count": 24,
   "id": "6ea24d69",
   "metadata": {},
   "outputs": [],
   "source": [
    "NOW = dt.date(2014,12,31)\n",
    "df['Date'] = pd.DatetimeIndex(df.order_date).date"
   ]
  },
  {
   "cell_type": "code",
   "execution_count": 25,
   "id": "70a8bf53",
   "metadata": {},
   "outputs": [
    {
     "data": {
      "text/html": [
       "<div>\n",
       "<style scoped>\n",
       "    .dataframe tbody tr th:only-of-type {\n",
       "        vertical-align: middle;\n",
       "    }\n",
       "\n",
       "    .dataframe tbody tr th {\n",
       "        vertical-align: top;\n",
       "    }\n",
       "\n",
       "    .dataframe thead th {\n",
       "        text-align: right;\n",
       "    }\n",
       "</style>\n",
       "<table border=\"1\" class=\"dataframe\">\n",
       "  <thead>\n",
       "    <tr style=\"text-align: right;\">\n",
       "      <th></th>\n",
       "      <th>Customer</th>\n",
       "      <th>Recency</th>\n",
       "    </tr>\n",
       "  </thead>\n",
       "  <tbody>\n",
       "    <tr>\n",
       "      <th>0</th>\n",
       "      <td>Aaron Bergman</td>\n",
       "      <td>415</td>\n",
       "    </tr>\n",
       "    <tr>\n",
       "      <th>1</th>\n",
       "      <td>Aaron Hawkins</td>\n",
       "      <td>12</td>\n",
       "    </tr>\n",
       "    <tr>\n",
       "      <th>2</th>\n",
       "      <td>Aaron Smayling</td>\n",
       "      <td>88</td>\n",
       "    </tr>\n",
       "    <tr>\n",
       "      <th>3</th>\n",
       "      <td>Adam Bellavance</td>\n",
       "      <td>54</td>\n",
       "    </tr>\n",
       "    <tr>\n",
       "      <th>4</th>\n",
       "      <td>Adam Hart</td>\n",
       "      <td>34</td>\n",
       "    </tr>\n",
       "  </tbody>\n",
       "</table>\n",
       "</div>"
      ],
      "text/plain": [
       "          Customer  Recency\n",
       "0    Aaron Bergman      415\n",
       "1    Aaron Hawkins       12\n",
       "2   Aaron Smayling       88\n",
       "3  Adam Bellavance       54\n",
       "4        Adam Hart       34"
      ]
     },
     "execution_count": 25,
     "metadata": {},
     "output_type": "execute_result"
    }
   ],
   "source": [
    "#Recency\n",
    "\n",
    "df_recency = df.groupby(['customer'],as_index=False)['Date'].max()\n",
    "df_recency.columns = ['Customer','Last_Purchase_Date']\n",
    "\n",
    "df_recency['Recency'] = df_recency.Last_Purchase_Date.apply(lambda x:(NOW - x).days)\n",
    "df_recency.drop(columns=['Last_Purchase_Date'],inplace=True)\n",
    "df_recency.head()"
   ]
  },
  {
   "cell_type": "markdown",
   "id": "25724704",
   "metadata": {},
   "source": [
    "see an example of this data, **Aaron Bergman** last **shopped 415 days ago**, indicated churn. Meanwhile, **Aaron Hawkins** last **shopped 12 days ago**"
   ]
  },
  {
   "cell_type": "code",
   "execution_count": 26,
   "id": "b73a2ef8",
   "metadata": {},
   "outputs": [
    {
     "data": {
      "text/html": [
       "<div>\n",
       "<style scoped>\n",
       "    .dataframe tbody tr th:only-of-type {\n",
       "        vertical-align: middle;\n",
       "    }\n",
       "\n",
       "    .dataframe tbody tr th {\n",
       "        vertical-align: top;\n",
       "    }\n",
       "\n",
       "    .dataframe thead th {\n",
       "        text-align: right;\n",
       "    }\n",
       "</style>\n",
       "<table border=\"1\" class=\"dataframe\">\n",
       "  <thead>\n",
       "    <tr style=\"text-align: right;\">\n",
       "      <th></th>\n",
       "      <th>Frequency</th>\n",
       "      <th>Monetary</th>\n",
       "    </tr>\n",
       "    <tr>\n",
       "      <th>customer</th>\n",
       "      <th></th>\n",
       "      <th></th>\n",
       "    </tr>\n",
       "  </thead>\n",
       "  <tbody>\n",
       "    <tr>\n",
       "      <th>Aaron Bergman</th>\n",
       "      <td>3</td>\n",
       "      <td>887</td>\n",
       "    </tr>\n",
       "    <tr>\n",
       "      <th>Aaron Hawkins</th>\n",
       "      <td>7</td>\n",
       "      <td>1744</td>\n",
       "    </tr>\n",
       "    <tr>\n",
       "      <th>Aaron Smayling</th>\n",
       "      <td>7</td>\n",
       "      <td>3050</td>\n",
       "    </tr>\n",
       "    <tr>\n",
       "      <th>Adam Bellavance</th>\n",
       "      <td>8</td>\n",
       "      <td>7756</td>\n",
       "    </tr>\n",
       "    <tr>\n",
       "      <th>Adam Hart</th>\n",
       "      <td>10</td>\n",
       "      <td>3249</td>\n",
       "    </tr>\n",
       "  </tbody>\n",
       "</table>\n",
       "</div>"
      ],
      "text/plain": [
       "                 Frequency  Monetary\n",
       "customer                            \n",
       "Aaron Bergman            3       887\n",
       "Aaron Hawkins            7      1744\n",
       "Aaron Smayling           7      3050\n",
       "Adam Bellavance          8      7756\n",
       "Adam Hart               10      3249"
      ]
     },
     "execution_count": 26,
     "metadata": {},
     "output_type": "execute_result"
    }
   ],
   "source": [
    "#Frequency - Monetary\n",
    "\n",
    "FM_Table = df.groupby('customer').agg({'order_id':lambda x:len(x),\n",
    "                                        'grand_total':lambda x:x.sum()})\n",
    "FM_Table.rename(columns = {'order_id' :'Frequency',\n",
    "                           'grand_total':'Monetary'},inplace= True)\n",
    "FM_Table.head()"
   ]
  },
  {
   "cell_type": "markdown",
   "id": "e3c04aec",
   "metadata": {},
   "source": [
    "looking at an example of this data, **Aaron Bergman** last spent **3 transactions** and **amount 887**. Meanwhile, **Aaron Hawkins** **7 transactions** and **amount 1744**"
   ]
  },
  {
   "cell_type": "code",
   "execution_count": 27,
   "id": "40ce2009",
   "metadata": {},
   "outputs": [
    {
     "data": {
      "text/html": [
       "<div>\n",
       "<style scoped>\n",
       "    .dataframe tbody tr th:only-of-type {\n",
       "        vertical-align: middle;\n",
       "    }\n",
       "\n",
       "    .dataframe tbody tr th {\n",
       "        vertical-align: top;\n",
       "    }\n",
       "\n",
       "    .dataframe thead th {\n",
       "        text-align: right;\n",
       "    }\n",
       "</style>\n",
       "<table border=\"1\" class=\"dataframe\">\n",
       "  <thead>\n",
       "    <tr style=\"text-align: right;\">\n",
       "      <th></th>\n",
       "      <th>Customer</th>\n",
       "      <th>Recency</th>\n",
       "      <th>Frequency</th>\n",
       "      <th>Monetary</th>\n",
       "    </tr>\n",
       "  </thead>\n",
       "  <tbody>\n",
       "    <tr>\n",
       "      <th>0</th>\n",
       "      <td>Aaron Bergman</td>\n",
       "      <td>415</td>\n",
       "      <td>3</td>\n",
       "      <td>887</td>\n",
       "    </tr>\n",
       "    <tr>\n",
       "      <th>1</th>\n",
       "      <td>Aaron Hawkins</td>\n",
       "      <td>12</td>\n",
       "      <td>7</td>\n",
       "      <td>1744</td>\n",
       "    </tr>\n",
       "    <tr>\n",
       "      <th>2</th>\n",
       "      <td>Aaron Smayling</td>\n",
       "      <td>88</td>\n",
       "      <td>7</td>\n",
       "      <td>3050</td>\n",
       "    </tr>\n",
       "    <tr>\n",
       "      <th>3</th>\n",
       "      <td>Adam Bellavance</td>\n",
       "      <td>54</td>\n",
       "      <td>8</td>\n",
       "      <td>7756</td>\n",
       "    </tr>\n",
       "    <tr>\n",
       "      <th>4</th>\n",
       "      <td>Adam Hart</td>\n",
       "      <td>34</td>\n",
       "      <td>10</td>\n",
       "      <td>3249</td>\n",
       "    </tr>\n",
       "  </tbody>\n",
       "</table>\n",
       "</div>"
      ],
      "text/plain": [
       "          Customer  Recency  Frequency  Monetary\n",
       "0    Aaron Bergman      415          3       887\n",
       "1    Aaron Hawkins       12          7      1744\n",
       "2   Aaron Smayling       88          7      3050\n",
       "3  Adam Bellavance       54          8      7756\n",
       "4        Adam Hart       34         10      3249"
      ]
     },
     "execution_count": 27,
     "metadata": {},
     "output_type": "execute_result"
    }
   ],
   "source": [
    "RFM_Table = df_recency.merge(FM_Table,left_on='Customer',right_on='customer')\n",
    "RFM_Table.head()"
   ]
  },
  {
   "cell_type": "markdown",
   "id": "798805cb",
   "metadata": {},
   "source": [
    "see an example of this data, **Aaron Bergman** last **shopped 415 days ago** and at that time he spent **3 transactions** and **amount 887**. Meanwhile, **Aaron Hawkins** last **shopped 12 days ago** **7 transactions** and **amount 1744**"
   ]
  },
  {
   "cell_type": "markdown",
   "id": "959bea5b",
   "metadata": {},
   "source": [
    "# Modelling\n",
    "## RFM "
   ]
  },
  {
   "cell_type": "markdown",
   "id": "2e46685c",
   "metadata": {},
   "source": [
    "we will assign score from 1 to 4 to each Recency, Frequency, and Monetary respectively\n",
    "\n",
    "**1** is the **highest value**, and **4** is **the lowest value**\n",
    "\n",
    "A final RFM Score (Overall Value) is calculate simply by combining individual RFM score numbers"
   ]
  },
  {
   "cell_type": "code",
   "execution_count": 28,
   "id": "a9e0a100",
   "metadata": {},
   "outputs": [],
   "source": [
    "quantiles = RFM_Table.quantile(q=[0.25,0.50,0.75])\n",
    "quantiles = quantiles.to_dict()"
   ]
  },
  {
   "cell_type": "code",
   "execution_count": 29,
   "id": "f7d42b7f",
   "metadata": {},
   "outputs": [],
   "source": [
    "segmented_rfm = RFM_Table.copy()"
   ]
  },
  {
   "cell_type": "code",
   "execution_count": 30,
   "id": "7993418c",
   "metadata": {},
   "outputs": [],
   "source": [
    "def RScore(x,p,d):\n",
    "    if x <= d[p][0.25]:\n",
    "        return 1\n",
    "    elif x <= d[p][0.50]:\n",
    "        return 2 \n",
    "    elif x <= d[p][0.75]:\n",
    "        return 3\n",
    "    else:\n",
    "        return 4\n",
    "    \n",
    "def FMScore(x,p,d):\n",
    "    if x <= d[p][0.25]:\n",
    "        return 4\n",
    "    elif x <= d[p][0.50]:\n",
    "        return 3 \n",
    "    elif x <= d[p][0.75]:\n",
    "        return 2\n",
    "    else:\n",
    "        return 1"
   ]
  },
  {
   "cell_type": "code",
   "execution_count": 31,
   "id": "9439fa89",
   "metadata": {},
   "outputs": [
    {
     "data": {
      "text/html": [
       "<div>\n",
       "<style scoped>\n",
       "    .dataframe tbody tr th:only-of-type {\n",
       "        vertical-align: middle;\n",
       "    }\n",
       "\n",
       "    .dataframe tbody tr th {\n",
       "        vertical-align: top;\n",
       "    }\n",
       "\n",
       "    .dataframe thead th {\n",
       "        text-align: right;\n",
       "    }\n",
       "</style>\n",
       "<table border=\"1\" class=\"dataframe\">\n",
       "  <thead>\n",
       "    <tr style=\"text-align: right;\">\n",
       "      <th></th>\n",
       "      <th>Customer</th>\n",
       "      <th>Recency</th>\n",
       "      <th>Frequency</th>\n",
       "      <th>Monetary</th>\n",
       "      <th>R_quartile</th>\n",
       "      <th>F_quartile</th>\n",
       "      <th>M_quartile</th>\n",
       "    </tr>\n",
       "  </thead>\n",
       "  <tbody>\n",
       "    <tr>\n",
       "      <th>0</th>\n",
       "      <td>Aaron Bergman</td>\n",
       "      <td>415</td>\n",
       "      <td>3</td>\n",
       "      <td>887</td>\n",
       "      <td>4</td>\n",
       "      <td>4</td>\n",
       "      <td>4</td>\n",
       "    </tr>\n",
       "    <tr>\n",
       "      <th>1</th>\n",
       "      <td>Aaron Hawkins</td>\n",
       "      <td>12</td>\n",
       "      <td>7</td>\n",
       "      <td>1744</td>\n",
       "      <td>1</td>\n",
       "      <td>2</td>\n",
       "      <td>3</td>\n",
       "    </tr>\n",
       "    <tr>\n",
       "      <th>2</th>\n",
       "      <td>Aaron Smayling</td>\n",
       "      <td>88</td>\n",
       "      <td>7</td>\n",
       "      <td>3050</td>\n",
       "      <td>3</td>\n",
       "      <td>2</td>\n",
       "      <td>2</td>\n",
       "    </tr>\n",
       "    <tr>\n",
       "      <th>3</th>\n",
       "      <td>Adam Bellavance</td>\n",
       "      <td>54</td>\n",
       "      <td>8</td>\n",
       "      <td>7756</td>\n",
       "      <td>2</td>\n",
       "      <td>2</td>\n",
       "      <td>1</td>\n",
       "    </tr>\n",
       "    <tr>\n",
       "      <th>4</th>\n",
       "      <td>Adam Hart</td>\n",
       "      <td>34</td>\n",
       "      <td>10</td>\n",
       "      <td>3249</td>\n",
       "      <td>2</td>\n",
       "      <td>1</td>\n",
       "      <td>2</td>\n",
       "    </tr>\n",
       "    <tr>\n",
       "      <th>5</th>\n",
       "      <td>Adam Shillingsburg</td>\n",
       "      <td>28</td>\n",
       "      <td>9</td>\n",
       "      <td>3256</td>\n",
       "      <td>1</td>\n",
       "      <td>1</td>\n",
       "      <td>2</td>\n",
       "    </tr>\n",
       "    <tr>\n",
       "      <th>6</th>\n",
       "      <td>Adrian Barton</td>\n",
       "      <td>41</td>\n",
       "      <td>10</td>\n",
       "      <td>14474</td>\n",
       "      <td>2</td>\n",
       "      <td>1</td>\n",
       "      <td>1</td>\n",
       "    </tr>\n",
       "    <tr>\n",
       "      <th>7</th>\n",
       "      <td>Adrian Hane</td>\n",
       "      <td>60</td>\n",
       "      <td>7</td>\n",
       "      <td>1734</td>\n",
       "      <td>2</td>\n",
       "      <td>2</td>\n",
       "      <td>3</td>\n",
       "    </tr>\n",
       "    <tr>\n",
       "      <th>8</th>\n",
       "      <td>Adrian Shami</td>\n",
       "      <td>41</td>\n",
       "      <td>2</td>\n",
       "      <td>59</td>\n",
       "      <td>2</td>\n",
       "      <td>4</td>\n",
       "      <td>4</td>\n",
       "    </tr>\n",
       "    <tr>\n",
       "      <th>9</th>\n",
       "      <td>Aimee Bixby</td>\n",
       "      <td>41</td>\n",
       "      <td>5</td>\n",
       "      <td>968</td>\n",
       "      <td>2</td>\n",
       "      <td>4</td>\n",
       "      <td>4</td>\n",
       "    </tr>\n",
       "  </tbody>\n",
       "</table>\n",
       "</div>"
      ],
      "text/plain": [
       "             Customer  Recency  Frequency  Monetary  R_quartile  F_quartile  \\\n",
       "0       Aaron Bergman      415          3       887           4           4   \n",
       "1       Aaron Hawkins       12          7      1744           1           2   \n",
       "2      Aaron Smayling       88          7      3050           3           2   \n",
       "3     Adam Bellavance       54          8      7756           2           2   \n",
       "4           Adam Hart       34         10      3249           2           1   \n",
       "5  Adam Shillingsburg       28          9      3256           1           1   \n",
       "6       Adrian Barton       41         10     14474           2           1   \n",
       "7         Adrian Hane       60          7      1734           2           2   \n",
       "8        Adrian Shami       41          2        59           2           4   \n",
       "9         Aimee Bixby       41          5       968           2           4   \n",
       "\n",
       "   M_quartile  \n",
       "0           4  \n",
       "1           3  \n",
       "2           2  \n",
       "3           1  \n",
       "4           2  \n",
       "5           2  \n",
       "6           1  \n",
       "7           3  \n",
       "8           4  \n",
       "9           4  "
      ]
     },
     "execution_count": 31,
     "metadata": {},
     "output_type": "execute_result"
    }
   ],
   "source": [
    "segmented_rfm['R_quartile'] = segmented_rfm['Recency'].apply(RScore, args=('Recency', quantiles))\n",
    "segmented_rfm['F_quartile'] = segmented_rfm['Frequency'].apply(FMScore, args=('Frequency', quantiles))\n",
    "segmented_rfm['M_quartile'] = segmented_rfm['Monetary'].apply(FMScore, args=('Monetary', quantiles))\n",
    "\n",
    "segmented_rfm.head(10)"
   ]
  },
  {
   "cell_type": "markdown",
   "id": "022e0ad1",
   "metadata": {},
   "source": [
    "**the bigger the number in R_quartile**, then it proves that the customer is **the longer they haven't shopped**. while **the smaller the number in the R_quartile**, it proves that the customer **the more recently shopped**.\n",
    "\n",
    "From this example, it can be seen, Aaron Bergman last shopped **415 days ago**, because it's been a while, he got an R_quartile 4, while Aaron Hawkins last shopped **12 days ago**, he got an R_quartile 1 .\n",
    "\n",
    "**the bigger the number in F_quartile**, then it proves that the customer is **the less frequency he shopped**. while **the smaller the number in F_quartile**, it proves that the customer **the more frequency he shopped**.\n",
    "\n",
    "Likewise for **M_quartile**, **the bigger the number in M_quartile**, then it proves that the customer is **the smaller the amount spent**. while **the smaller the number in M_quartile**, it proves that the customer **the more amount he spends for shopping**."
   ]
  },
  {
   "cell_type": "code",
   "execution_count": 32,
   "id": "f9606eac",
   "metadata": {},
   "outputs": [],
   "source": [
    "segmented_rfm['RFM_Segment'] = segmented_rfm.R_quartile.map(str)+segmented_rfm.F_quartile.map(str)+segmented_rfm.M_quartile.map(str)"
   ]
  },
  {
   "cell_type": "code",
   "execution_count": 33,
   "id": "eecb5e49",
   "metadata": {},
   "outputs": [
    {
     "data": {
      "text/html": [
       "<div>\n",
       "<style scoped>\n",
       "    .dataframe tbody tr th:only-of-type {\n",
       "        vertical-align: middle;\n",
       "    }\n",
       "\n",
       "    .dataframe tbody tr th {\n",
       "        vertical-align: top;\n",
       "    }\n",
       "\n",
       "    .dataframe thead th {\n",
       "        text-align: right;\n",
       "    }\n",
       "</style>\n",
       "<table border=\"1\" class=\"dataframe\">\n",
       "  <thead>\n",
       "    <tr style=\"text-align: right;\">\n",
       "      <th></th>\n",
       "      <th>Customer</th>\n",
       "      <th>Recency</th>\n",
       "      <th>Frequency</th>\n",
       "      <th>Monetary</th>\n",
       "      <th>R_quartile</th>\n",
       "      <th>F_quartile</th>\n",
       "      <th>M_quartile</th>\n",
       "      <th>RFM_Segment</th>\n",
       "    </tr>\n",
       "  </thead>\n",
       "  <tbody>\n",
       "    <tr>\n",
       "      <th>0</th>\n",
       "      <td>Aaron Bergman</td>\n",
       "      <td>415</td>\n",
       "      <td>3</td>\n",
       "      <td>887</td>\n",
       "      <td>4</td>\n",
       "      <td>4</td>\n",
       "      <td>4</td>\n",
       "      <td>444</td>\n",
       "    </tr>\n",
       "    <tr>\n",
       "      <th>1</th>\n",
       "      <td>Aaron Hawkins</td>\n",
       "      <td>12</td>\n",
       "      <td>7</td>\n",
       "      <td>1744</td>\n",
       "      <td>1</td>\n",
       "      <td>2</td>\n",
       "      <td>3</td>\n",
       "      <td>123</td>\n",
       "    </tr>\n",
       "    <tr>\n",
       "      <th>2</th>\n",
       "      <td>Aaron Smayling</td>\n",
       "      <td>88</td>\n",
       "      <td>7</td>\n",
       "      <td>3050</td>\n",
       "      <td>3</td>\n",
       "      <td>2</td>\n",
       "      <td>2</td>\n",
       "      <td>322</td>\n",
       "    </tr>\n",
       "    <tr>\n",
       "      <th>3</th>\n",
       "      <td>Adam Bellavance</td>\n",
       "      <td>54</td>\n",
       "      <td>8</td>\n",
       "      <td>7756</td>\n",
       "      <td>2</td>\n",
       "      <td>2</td>\n",
       "      <td>1</td>\n",
       "      <td>221</td>\n",
       "    </tr>\n",
       "    <tr>\n",
       "      <th>4</th>\n",
       "      <td>Adam Hart</td>\n",
       "      <td>34</td>\n",
       "      <td>10</td>\n",
       "      <td>3249</td>\n",
       "      <td>2</td>\n",
       "      <td>1</td>\n",
       "      <td>2</td>\n",
       "      <td>212</td>\n",
       "    </tr>\n",
       "  </tbody>\n",
       "</table>\n",
       "</div>"
      ],
      "text/plain": [
       "          Customer  Recency  Frequency  Monetary  R_quartile  F_quartile  \\\n",
       "0    Aaron Bergman      415          3       887           4           4   \n",
       "1    Aaron Hawkins       12          7      1744           1           2   \n",
       "2   Aaron Smayling       88          7      3050           3           2   \n",
       "3  Adam Bellavance       54          8      7756           2           2   \n",
       "4        Adam Hart       34         10      3249           2           1   \n",
       "\n",
       "   M_quartile RFM_Segment  \n",
       "0           4         444  \n",
       "1           3         123  \n",
       "2           2         322  \n",
       "3           1         221  \n",
       "4           2         212  "
      ]
     },
     "execution_count": 33,
     "metadata": {},
     "output_type": "execute_result"
    }
   ],
   "source": [
    "segmented_rfm.head()"
   ]
  },
  {
   "cell_type": "code",
   "execution_count": 34,
   "id": "9f78b9d8",
   "metadata": {},
   "outputs": [],
   "source": [
    "segmented_rfm['RFM_Score'] = segmented_rfm[['R_quartile','F_quartile','M_quartile']].sum(axis=1)"
   ]
  },
  {
   "cell_type": "code",
   "execution_count": 35,
   "id": "ea7542a2",
   "metadata": {},
   "outputs": [
    {
     "data": {
      "text/html": [
       "<div>\n",
       "<style scoped>\n",
       "    .dataframe tbody tr th:only-of-type {\n",
       "        vertical-align: middle;\n",
       "    }\n",
       "\n",
       "    .dataframe tbody tr th {\n",
       "        vertical-align: top;\n",
       "    }\n",
       "\n",
       "    .dataframe thead th {\n",
       "        text-align: right;\n",
       "    }\n",
       "</style>\n",
       "<table border=\"1\" class=\"dataframe\">\n",
       "  <thead>\n",
       "    <tr style=\"text-align: right;\">\n",
       "      <th></th>\n",
       "      <th>Customer</th>\n",
       "      <th>Recency</th>\n",
       "      <th>Frequency</th>\n",
       "      <th>Monetary</th>\n",
       "      <th>R_quartile</th>\n",
       "      <th>F_quartile</th>\n",
       "      <th>M_quartile</th>\n",
       "      <th>RFM_Segment</th>\n",
       "      <th>RFM_Score</th>\n",
       "    </tr>\n",
       "  </thead>\n",
       "  <tbody>\n",
       "    <tr>\n",
       "      <th>0</th>\n",
       "      <td>Aaron Bergman</td>\n",
       "      <td>415</td>\n",
       "      <td>3</td>\n",
       "      <td>887</td>\n",
       "      <td>4</td>\n",
       "      <td>4</td>\n",
       "      <td>4</td>\n",
       "      <td>444</td>\n",
       "      <td>12</td>\n",
       "    </tr>\n",
       "    <tr>\n",
       "      <th>1</th>\n",
       "      <td>Aaron Hawkins</td>\n",
       "      <td>12</td>\n",
       "      <td>7</td>\n",
       "      <td>1744</td>\n",
       "      <td>1</td>\n",
       "      <td>2</td>\n",
       "      <td>3</td>\n",
       "      <td>123</td>\n",
       "      <td>6</td>\n",
       "    </tr>\n",
       "    <tr>\n",
       "      <th>2</th>\n",
       "      <td>Aaron Smayling</td>\n",
       "      <td>88</td>\n",
       "      <td>7</td>\n",
       "      <td>3050</td>\n",
       "      <td>3</td>\n",
       "      <td>2</td>\n",
       "      <td>2</td>\n",
       "      <td>322</td>\n",
       "      <td>7</td>\n",
       "    </tr>\n",
       "    <tr>\n",
       "      <th>3</th>\n",
       "      <td>Adam Bellavance</td>\n",
       "      <td>54</td>\n",
       "      <td>8</td>\n",
       "      <td>7756</td>\n",
       "      <td>2</td>\n",
       "      <td>2</td>\n",
       "      <td>1</td>\n",
       "      <td>221</td>\n",
       "      <td>5</td>\n",
       "    </tr>\n",
       "    <tr>\n",
       "      <th>4</th>\n",
       "      <td>Adam Hart</td>\n",
       "      <td>34</td>\n",
       "      <td>10</td>\n",
       "      <td>3249</td>\n",
       "      <td>2</td>\n",
       "      <td>1</td>\n",
       "      <td>2</td>\n",
       "      <td>212</td>\n",
       "      <td>5</td>\n",
       "    </tr>\n",
       "  </tbody>\n",
       "</table>\n",
       "</div>"
      ],
      "text/plain": [
       "          Customer  Recency  Frequency  Monetary  R_quartile  F_quartile  \\\n",
       "0    Aaron Bergman      415          3       887           4           4   \n",
       "1    Aaron Hawkins       12          7      1744           1           2   \n",
       "2   Aaron Smayling       88          7      3050           3           2   \n",
       "3  Adam Bellavance       54          8      7756           2           2   \n",
       "4        Adam Hart       34         10      3249           2           1   \n",
       "\n",
       "   M_quartile RFM_Segment  RFM_Score  \n",
       "0           4         444         12  \n",
       "1           3         123          6  \n",
       "2           2         322          7  \n",
       "3           1         221          5  \n",
       "4           2         212          5  "
      ]
     },
     "execution_count": 35,
     "metadata": {},
     "output_type": "execute_result"
    }
   ],
   "source": [
    "segmented_rfm.head()"
   ]
  },
  {
   "cell_type": "code",
   "execution_count": 36,
   "id": "223e3361",
   "metadata": {},
   "outputs": [
    {
     "data": {
      "text/plain": [
       "array(['444', '123', '322', '221', '212', '112', '211', '223', '244',\n",
       "       '124', '121', '243', '111', '141', '424', '314', '442', '132',\n",
       "       '344', '441', '144', '114', '343', '133', '443', '131', '142',\n",
       "       '324', '231', '411', '321', '333', '311', '312', '222', '323',\n",
       "       '122', '412', '433', '334', '341', '342', '143', '232', '233',\n",
       "       '234', '434', '413', '134', '331', '421', '241', '213', '313',\n",
       "       '431', '242', '423', '332', '113', '432', '224', '422'],\n",
       "      dtype=object)"
      ]
     },
     "execution_count": 36,
     "metadata": {},
     "output_type": "execute_result"
    }
   ],
   "source": [
    "segmented_rfm['RFM_Segment'].unique()"
   ]
  },
  {
   "cell_type": "markdown",
   "id": "a4c30929",
   "metadata": {},
   "source": [
    "# Label"
   ]
  },
  {
   "cell_type": "code",
   "execution_count": 37,
   "id": "88a8053a",
   "metadata": {},
   "outputs": [
    {
     "name": "stdout",
     "output_type": "stream",
     "text": [
      "Best Customers :  30\n",
      "Loyal Customers :  159\n",
      "Big Spenders :  198\n",
      "Almost Lost :  2\n",
      "Lost Customers :  31\n",
      "Lost Cheap Customers :  67\n"
     ]
    }
   ],
   "source": [
    "print('Best Customers : ', len(segmented_rfm[segmented_rfm['RFM_Segment']=='111']))\n",
    "print('Loyal Customers : ', len(segmented_rfm[segmented_rfm['F_quartile']==1]))\n",
    "print('Big Spenders : ', len(segmented_rfm[segmented_rfm['M_quartile']==1]))\n",
    "print('Almost Lost : ', len(segmented_rfm[segmented_rfm['RFM_Segment']=='134']))\n",
    "print('Lost Customers : ', len(segmented_rfm[segmented_rfm['RFM_Segment']=='344']))\n",
    "print('Lost Cheap Customers : ', len(segmented_rfm[segmented_rfm['RFM_Segment']=='444']))"
   ]
  },
  {
   "cell_type": "code",
   "execution_count": 38,
   "id": "3bdc0aa5",
   "metadata": {},
   "outputs": [],
   "source": [
    "# Setting up the label for each client and adding column 'label' to the dataframe\n",
    "\n",
    "label = [0] * len(segmented_rfm)\n",
    "\n",
    "for i in range(0,len(segmented_rfm)):\n",
    "    \n",
    "    if segmented_rfm['RFM_Segment'][i] == '111':\n",
    "        label[i] = 'Best Customers'    \n",
    "    elif segmented_rfm['RFM_Segment'][i] == '134':\n",
    "        label[i] = 'Almost Lost'\n",
    "    elif segmented_rfm['RFM_Segment'][i] == '344':\n",
    "        label[i] = 'Lost Customers'\n",
    "    elif segmented_rfm['RFM_Segment'][i] == '444':\n",
    "        label[i] = 'Lost Cheap Customers'\n",
    "    elif segmented_rfm['F_quartile'][i] == 1:\n",
    "        label[i] = 'Loyal Customers'\n",
    "    elif segmented_rfm['M_quartile'][i] == 1:\n",
    "        label[i] = 'Big Spenders'\n",
    "    else:\n",
    "        label[i] = \"Others\""
   ]
  },
  {
   "cell_type": "code",
   "execution_count": 39,
   "id": "d79912b1",
   "metadata": {},
   "outputs": [],
   "source": [
    "# Adding the 'lavel' column to our dataframe\n",
    "\n",
    "segmented_rfm['Label'] = label"
   ]
  },
  {
   "cell_type": "code",
   "execution_count": 40,
   "id": "0a5f1412",
   "metadata": {},
   "outputs": [
    {
     "data": {
      "text/plain": [
       "Others                  409\n",
       "Loyal Customers         129\n",
       "Big Spenders            125\n",
       "Lost Cheap Customers     67\n",
       "Lost Customers           31\n",
       "Best Customers           30\n",
       "Almost Lost               2\n",
       "Name: Label, dtype: int64"
      ]
     },
     "execution_count": 40,
     "metadata": {},
     "output_type": "execute_result"
    }
   ],
   "source": [
    "# count the frequency that a value accurs in a dataframe column for the label\n",
    "\n",
    "segmented_rfm['Label'].value_counts()"
   ]
  },
  {
   "cell_type": "code",
   "execution_count": 43,
   "id": "ed356d17",
   "metadata": {},
   "outputs": [
    {
     "data": {
      "text/plain": [
       "<AxesSubplot:xlabel='Label', ylabel='Customer'>"
      ]
     },
     "execution_count": 43,
     "metadata": {},
     "output_type": "execute_result"
    },
    {
     "data": {
      "image/png": "[encoded data removed]",
      "text/plain": [
       "<Figure size 1200x800 with 1 Axes>"
      ]
     },
     "metadata": {},
     "output_type": "display_data"
    }
   ],
   "source": [
    "sq1 = segmented_rfm.groupby('Label')['Customer'].nunique().sort_values(ascending = False).reset_index()\n",
    "plt.figure(figsize=(12,8))\n",
    "#sq1.drop([0],inplace=True) # buat ngilangin others\n",
    "sns.barplot(data = sq1, x = 'Label', y = 'Customer', palette = 'rainbow')"
   ]
  },
  {
   "cell_type": "markdown",
   "id": "30676a0b",
   "metadata": {},
   "source": [
    "There are 7 customer segmentation based on RFM. Segmentation of **loyal customers** has the **highest number**. Then **lost cheap customers** have **more** than the best customers and **almost lost** customers have the **least** number. From these data, customers often place orders with a large number of orders.\n",
    "\n",
    "* Based on **results of modeling** customer segmentation **using RFM**, the company's customers are divided into 7 segments, namely **Loyal Customers, Big Spanders, Lost Cheap Customers, Best Customers, Almost Lost**, and others.\n",
    "\n",
    "    A total of **16.27% of the total customers** (with a total of 129 customers) are included in **Loyal Customers** where this segment's customers have the most shopping frequency than other segments.\n",
    "\n",
    "    Furthermore, **15.76% of the total customers** (with a total of 125 customers) in the company entered the **Big Spenders** segment. This segment has the highest total purchases than any other segment.\n",
    "\n",
    "    **Lost Cheap Customers** segment consists of 67 customers with a percentage of **8.44% of the total customers**. Customers who enter this type of segment tend to churn because they have not bought goods from the company for a long time, have the least frequency of shopping, and have the least total purchases compared to other segments.\n",
    "\n",
    "    Then as much as **3.9% of total customers** (with a total of 31 customers) are classified as **Lost Customers** which is almost the same as customers in the Lost Cheap Customers segment, Lost Customers tend to churn.\n",
    "\n",
    "    A total of 30 customers with a percentage of **3.78% of the total customers**, entered the **Best Customer** segment. Customers in this segment have recently purchased goods from the company, have the most shopping frequency, and have the most total purchases than other segments.\n",
    "\n",
    "    Then **0.25% of the total customers** (with a total of 2 customers) are customers who enter the **Almost Lost** segment. Customers in the Almost Lost segment have recently purchased goods from the company, but have quite a bit of shopping frequency, and the lowest total purchases compared to other segments.\n",
    "\n",
    "    Lastly, other customers are classified into **Others** segment, where this segment is a mixed segment (in this case **undefined segment**)."
   ]
  },
  {
   "cell_type": "code",
   "execution_count": 42,
   "id": "99dd7c63",
   "metadata": {},
   "outputs": [
    {
     "name": "stdout",
     "output_type": "stream",
     "text": [
      "Persentase 'Others' sebesar 51.576292559899116%\n",
      "Persentase 'Loyal Customers' sebesar 16.26733921815889%\n",
      "Persentase 'Big Spenders' sebesar 15.762925598991174%\n",
      "Persentase 'Lost Cheap Customers' sebesar 8.448928121059268%\n",
      "Persentase 'Lost Customers' sebesar 3.909205548549811%\n",
      "Persentase 'Best Customers' sebesar 3.783102143757881%\n",
      "Persentase 'Almost Lost' sebesar 0.25220680958385877%\n"
     ]
    }
   ],
   "source": [
    "Others = 409\n",
    "Loyal_Customers = 129\n",
    "Big_Spenders = 125\n",
    "Lost_Cheap_Customers = 67\n",
    "Lost_Customers = 31\n",
    "Best_Customers = 30\n",
    "Almost_Lost = 2\n",
    "\n",
    "total = Others + Loyal_Customers + Big_Spenders + Lost_Cheap_Customers + Lost_Customers + Best_Customers + Almost_Lost\n",
    "\n",
    "p_other = Others / total * 100\n",
    "p_loyal = Loyal_Customers / total * 100\n",
    "p_big = Big_Spenders / total * 100\n",
    "p_lcc = Lost_Cheap_Customers / total * 100\n",
    "p_lc = Lost_Customers / total * 100\n",
    "p_best = Best_Customers / total * 100\n",
    "p_al = Almost_Lost / total * 100\n",
    "print(f\"Persentase 'Others' sebesar {p_other}%\")\n",
    "print(f\"Persentase 'Loyal Customers' sebesar {p_loyal}%\")\n",
    "print(f\"Persentase 'Big Spenders' sebesar {p_big}%\")\n",
    "print(f\"Persentase 'Lost Cheap Customers' sebesar {p_lcc}%\")\n",
    "print(f\"Persentase 'Lost Customers' sebesar {p_lc}%\")\n",
    "print(f\"Persentase 'Best Customers' sebesar {p_best}%\")\n",
    "print(f\"Persentase 'Almost Lost' sebesar {p_al}%\")"
   ]
  },
  {
   "cell_type": "markdown",
   "id": "1d28f9ba",
   "metadata": {},
   "source": [
    "# Result"
   ]
  },
  {
   "cell_type": "markdown",
   "id": "596ffa6b",
   "metadata": {},
   "source": [
    "1. The **total of customers is 793**. The number of Order_id turns out to be not the same as the number of Customers, so there are **some Order_ids that have the same Customers**. This shows that there are customers who **repeat orders** or do not only shop once at the company. **order_date** shows that there are several **transactions on the same day**\n",
    "\n",
    "2. **The average** purchasing amount from the customers is **458.626672**, while the **lowest** purchasing amount was rated **1** and the **highest** purchase was rated **23661**.\n",
    "\n",
    "3. We start the analysis in **2011**, the number of items purchased tends to **increase every month**. In **October** sales **declined sharply**, then **increased** in the following month, even exceeding sales in September because normally In most countries in the Northern Hemisphere, **September is the time for students to start the new school year at school**. **November's sales are high** because there are usually lots of **Black Friday** promotions. Meanwhile, sales in **December** experienced a **decline again**.\n",
    "   \n",
    "* Next to **2012**, same as 2011 the transaction tends to **increase** every month, from the EDA in **February to March** there is a fairly sharp increase of customer purchases up to **2 times**. After that, in **September** there was **a sharp increase**. However, in the following month, **October, there was a sharp decline** because, in that month, the consumer price index (CPI) was raised. in **November** there was a high increase even higher than in September and again **increased** because of **Black Friday**, and sales in **December** fell again\n",
    "\n",
    "\n",
    "* Similarly in **2013**, the number of items purchased tends to **increase** every month, for the **February to March** there is a fairly sharp increase to **almost 2 times**. In the month of **September**, there was **a sharp increase** probably because many parents bought school supplies for their children. However, in the following month, **October, there was a sharp decline** due to the raise of the consumer price index (CPI) based on the Bureau of Labor Statistics (BLS). However, in **November** there was a **significant** increase in the number of items purchased because **Black Friday** promos usually occur and again **slightly decreased** sales in **December**.\n",
    "\n",
    "\n",
    "* Lastly for **2014**, the number of items purchased tends to **increase** every month, in **February to March** there is a sharp increase to **almost 2 times**. In September there is a sharp increase in the new school year. In the following month, based on BLS the CPI was an increase, so that **October, there was a sharp decline**. However, in November **November there was a high increase** in the number of items purchased even **higher than in September** due to Black Friday and again **slightly decreased** sales in **December**\n",
    "\n",
    "\n",
    "4. Based on **results of modeling** customer segmentation **using RFM**, the company's customers are divided into 7 segments, namely **Best Customers, Loyal Customers, Big Spenders, Lost Cheap Customers, and Almost Lost**.\n",
    "\n",
    "* A total of 30 customers with a percentage of **3.78% of the total customers**, entered the **Best Customer** segment. Customers in this segment have recently purchased goods from the company, have the most shopping frequency, and have the most total purchases than other segments.A total of **16.27% of the total customers** (with a total of 129 of 793  customers) are included in **Loyal Customers** where this segment's customers have the most shopping frequency than other segments. Furthermore, **15.76% of the total customers** (with a total of 125 of 793 customers) in the company entered the **Big Spenders** segment. This segment has the highest total purchases than any other segment.\n",
    "\n",
    "* Another segment is the **Lost Cheap Customers** segment which consists of 67 of 793 customers with a percentage of **8.44% of the total customers**. This type of customer segment highly tends to churn because they have not bought goods from the company for a long time, have the least frequency of shopping, and have the least total purchases compared to other segments. Then as much as **3.9% of total customers** (with a total of 31 of 793 customers) are classified as **Lost Customers** which is almost the same as customers in the Lost Cheap Customers segment, Lost Customers tend to churn. Then **0.25% of the total customers** (with a total of 2 of 793 customers) are customers which are categorized as the **Almost Lost** segment. Customers in this segment have recently purchased goods from the company, but have quite a bit of shopping frequency, and the lowest total purchases compared to other segments.\n",
    "\n",
    "* Lastly, other customers are classified into **Others** segment, where this segment is a mixed segment (in this case **undefined segment**).\n"
   ]
  },
  {
   "cell_type": "markdown",
   "id": "2c8129de",
   "metadata": {},
   "source": [
    "# Action / Recomendation"
   ]
  },
  {
   "cell_type": "markdown",
   "id": "0706b231",
   "metadata": {},
   "source": [
    "• Recommendations for increased orders in a particular month such as September and November: focus on *increasing the amount of supply* of goods to compensate the high demand. Then for a decrease orders in a given month such as October, the marketing team can focus on improving the company promotion strategy. The company could also suppress the goods price as competitive as the company can or even slightly below the market price.\n",
    "\n",
    "• The following are the Recommendation for each customer segment. For the **\"Best Customers\"** segment, the company can focus on the reward for this type of customer, such as *posting their picture* in the store as the \"Best Customer\" and granting the reward for them. The reason is the best customer tends to do repeat orders as usually they did. In addition, we also need to take into account whenever the best customer transaction behavior change in term of a decrease of purchase. The company can raise their profit from implementing cross and up selling technique to the customer.\n",
    "\n",
    "• Next to **\"Loyal Customers\"** segment, the company must *optimize services for the loyal customer* in order to maintain their loyalty and increase their value. The company should increase its engagement with the loyal customer, such as remembering their name and asking for feedback through interview sessions and grant a reward for that. \n",
    "\n",
    "• For the **\"Big Spenders\"** segment, the business team should focus on doing *research on which products match the big spender customer interests or products that they are buying most*. From that, the company can offer special membership, so that they will do repeat orders even though not so often. On the other hand, the company can also *offer products with brand new high specifications or top-level products* and also apply cross and up selling technique to them. Lastly, the big spender customers should be given good service, such as giving a special offering for the new and exclusive product from their favorite media platform.\n",
    "\n",
    "• The next recommendation is for the **\"Almost Lost\"** segment. Since this customer segment is recently purchased, the company can *offer a high discount or promo* based on their last purchase interest group. This, hopefully, can intrigue them to purchase again from this company. The offering could be *delivered by the cashier employee with some brochures or vouchers*.\n",
    "\n",
    "• Lastly for the **\"Lost Cheap Customers\"** and the **\"Lost Customer”** segment. The company should *do some research on this customer’s background*. While probably the store distance from their houses is quite far, then the company can implement *delivery services or online shopping services*. Those strategies will not only affect the lost customer but also the other segment of customers. Because we are providing an easier way to purchasing goods."
   ]
  }
 ],
 "metadata": {
  "kernelspec": {
   "display_name": "Python 3 (ipykernel)",
   "language": "python",
   "name": "python3"
  },
  "language_info": {
   "codemirror_mode": {
    "name": "ipython",
    "version": 3
   },
   "file_extension": ".py",
   "mimetype": "text/x-python",
   "name": "python",
   "nbconvert_exporter": "python",
   "pygments_lexer": "ipython3",
   "version": "3.9.13"
  }
 },
 "nbformat": 4,
 "nbformat_minor": 5
}
